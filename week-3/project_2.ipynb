{
 "cells": [
  {
   "cell_type": "code",
   "execution_count": 28,
   "id": "a61504b9-b9ad-4ed2-b80a-71255b9afe63",
   "metadata": {},
   "outputs": [
    {
     "name": "stdout",
     "output_type": "stream",
     "text": [
      "Welcome to Izifin Technology's Annual Tax Revenue(ATR) Checker \n"
     ]
    },
    {
     "name": "stdin",
     "output_type": "stream",
     "text": [
      "please input your years of experience:  9\n",
      "please input your age:  30\n"
     ]
    },
    {
     "name": "stdout",
     "output_type": "stream",
     "text": [
      "Your ATR is N550,000\n"
     ]
    }
   ],
   "source": [
    "print(\"Welcome to Izifin Technology's Annual Tax Revenue(ATR) Checker \")\n",
    "e= float(input(\"please input your years of experience: \"))\n",
    "a= float(input(\"please input your age: \"))\n",
    "\n",
    "if e > 25 and a >= 55:\n",
    "    print(\"Your ATR is N5,600,000\")\n",
    "elif e > 20 and a >= 45:\n",
    "    print(\"Your Atr is N4,480,000\")\n",
    "elif e > 10 and a >= 35:\n",
    "    print(\"Your ATR is N1,500,000\")\n",
    "else:\n",
    "   print(\"Your ATR is N550,000\")"
   ]
  }
 ],
 "metadata": {
  "kernelspec": {
   "display_name": "Python [conda env:base] *",
   "language": "python",
   "name": "conda-base-py"
  },
  "language_info": {
   "codemirror_mode": {
    "name": "ipython",
    "version": 3
   },
   "file_extension": ".py",
   "mimetype": "text/x-python",
   "name": "python",
   "nbconvert_exporter": "python",
   "pygments_lexer": "ipython3",
   "version": "3.12.7"
  }
 },
 "nbformat": 4,
 "nbformat_minor": 5
}
