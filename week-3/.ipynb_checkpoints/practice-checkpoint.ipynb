{
 "cells": [
  {
   "cell_type": "markdown",
   "id": "3230066f-1448-407a-aabf-9a873e2ca119",
   "metadata": {},
   "source": [
    "# SEQUENCE"
   ]
  },
  {
   "cell_type": "code",
   "execution_count": 10,
   "id": "1ce849a9-1671-4f58-8cbd-8093398b9d97",
   "metadata": {},
   "outputs": [
    {
     "name": "stdin",
     "output_type": "stream",
     "text": [
      "Enter name of city 1: Lagos\n",
      "Enter name of city 2: Abuja\n"
     ]
    },
    {
     "name": "stdout",
     "output_type": "stream",
     "text": [
      "The value of city 1 after swap is Abuja\n",
      "The value of city 2 after swap is Lagos\n"
     ]
    }
   ],
   "source": [
    "#Python program to swap two cities\n",
    "\n",
    "# To take inputs from the user\n",
    "city_1 = input(\"Enter name of city 1:\")\n",
    "city_2 = input(\"Enter name of city 2:\")\n",
    "\n",
    "#create a temporary variable and swap the cities\n",
    "temp = city_1\n",
    "city_1 = city_2\n",
    "city_2 = temp\n",
    "\n",
    "print(f\"The value of city 1 after swap is {city_1}\")\n",
    "print(f\"The value of city 2 after swap is {city_2}\")"
   ]
  },
  {
   "cell_type": "markdown",
   "id": "5e8d95f9-3505-4c65-8c2c-c3b8d9b11512",
   "metadata": {},
   "source": [
    "# SELECTION"
   ]
  },
  {
   "cell_type": "code",
   "execution_count": 13,
   "id": "c8d1cf71-d2d6-47cf-af52-50556cfbded5",
   "metadata": {},
   "outputs": [
    {
     "name": "stdin",
     "output_type": "stream",
     "text": [
      "Enter a number:  3\n"
     ]
    },
    {
     "name": "stdout",
     "output_type": "stream",
     "text": [
      "Positive number\n"
     ]
    }
   ],
   "source": [
    "# Program to check if a number is positive, negative or 0\n",
    "num = float(input(\"Enter a number: \"))\n",
    "if num > 0:\n",
    "    print(\"Positive number\")\n",
    "elif num == 0:\n",
    "    print(\"zero\")\n",
    "else:\n",
    "    print(\"Negative number\")"
   ]
  },
  {
   "cell_type": "markdown",
   "id": "b0e13e28-b08f-4bfd-9e3d-79469aa8127d",
   "metadata": {},
   "source": [
    "# REPITITION"
   ]
  },
  {
   "cell_type": "code",
   "execution_count": null,
   "id": "cc558f67-e757-4d8e-904c-93bac7fbd396",
   "metadata": {},
   "outputs": [],
   "source": [
    "# COUPE DE ESCRIVA 2023: FOOTBALL PICKS\n",
    "\n",
    "print(\"Welcome to the COUPE DE ESCRIVA 2023: FOOTBALL PICS \\n\")\n",
    "\n",
    "captain = {'Madiba: ': 'Chubby Obiora-Okafo',\n",
    "           'Blue-Jays: ': 'Christopher Uweh', 'Cirok: ': 'Alexander', 'TSG Walkers: ': 'Ikechukwu'}\n",
    "\n",
    "goalkeepers = {'Madiba: ': 'Chubby Obiora-Okafo', 'Blue-Jays: ': 'Oladimeji Abaniwondea/Jeffery Awagu',\n",
    "               'Cirok: ': 'Timileyin Pearse/Izuako Jeremy', 'TSG Walkers: ': 'Ayomide Ojituku'}\n",
    "\n",
    "for pick in captain:\n",
    "    print(pick, captain[pick])\n",
    "print(\"\\n\")\n",
    "\n",
    "for pick in goalkeepers:\n",
    "    print(pick, goalkeepers[pick])\n",
    "\n",
    "i=0\n",
    "while i < 5:\n",
    "    print(i)\n",
    "    i+=1\n"
   ]
  },
  {
   "cell_type": "code",
   "execution_count": null,
   "id": "bebda808-20e2-4698-a1a9-9300407dcab6",
   "metadata": {},
   "outputs": [],
   "source": []
  }
 ],
 "metadata": {
  "kernelspec": {
   "display_name": "Python [conda env:base] *",
   "language": "python",
   "name": "conda-base-py"
  },
  "language_info": {
   "codemirror_mode": {
    "name": "ipython",
    "version": 3
   },
   "file_extension": ".py",
   "mimetype": "text/x-python",
   "name": "python",
   "nbconvert_exporter": "python",
   "pygments_lexer": "ipython3",
   "version": "3.12.7"
  }
 },
 "nbformat": 4,
 "nbformat_minor": 5
}
