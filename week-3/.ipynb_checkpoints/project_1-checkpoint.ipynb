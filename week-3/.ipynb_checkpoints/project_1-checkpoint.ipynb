{
 "cells": [
  {
   "cell_type": "code",
   "execution_count": 31,
   "id": "5274388d-2735-44e1-b9ed-3be6c5ee6ba0",
   "metadata": {},
   "outputs": [
    {
     "name": "stdout",
     "output_type": "stream",
     "text": [
      "['NAME   | ', 'AGE| ', 'HEIGHT| ', 'SCORE| ']\n",
      "\n",
      "['Evelyn | ']\n",
      "['Jessica| ']\n",
      "['Somto  | ']\n",
      "['Edith  | ']\n",
      "['Liza   | ']\n",
      "['Madonna| ']\n",
      "['Waje   | ']\n",
      "['Tola   | ']\n",
      "['Aisha  | ']\n",
      "['Latifa | ']\n",
      "['Chinedu| ']\n",
      "['Liam   | ']\n",
      "['Wale   | ']\n",
      "['Gbenga | ']\n",
      "['Abiola | ']\n",
      "['Kunle  | ']\n",
      "['George | ']\n",
      "['Thomas | ']\n",
      "['Wesley | ']\n"
     ]
    },
    {
     "ename": "IndexError",
     "evalue": "list index out of range",
     "output_type": "error",
     "traceback": [
      "\u001b[1;31m---------------------------------------------------------------------------\u001b[0m",
      "\u001b[1;31mIndexError\u001b[0m                                Traceback (most recent call last)",
      "Cell \u001b[1;32mIn[31], line 10\u001b[0m\n\u001b[0;32m      8\u001b[0m \u001b[38;5;28;01mfor\u001b[39;00m i \u001b[38;5;129;01min\u001b[39;00m \u001b[38;5;28mrange\u001b[39m(\u001b[38;5;241m20\u001b[39m):\n\u001b[0;32m      9\u001b[0m     \u001b[38;5;28mlist\u001b[39m \u001b[38;5;241m=\u001b[39m []\n\u001b[1;32m---> 10\u001b[0m     \u001b[38;5;28mlist\u001b[39m\u001b[38;5;241m.\u001b[39mappend(names[i])\n\u001b[0;32m     11\u001b[0m     \u001b[38;5;28mprint\u001b[39m(\u001b[38;5;28mlist\u001b[39m)\n",
      "\u001b[1;31mIndexError\u001b[0m: list index out of range"
     ]
    }
   ],
   "source": [
    "names= ['Evelyn | ','Jessica| ','Somto  | ','Edith  | ','Liza   | ','Madonna| ', 'Waje   | ','Tola   | ', \n",
    "        'Aisha  | ','Latifa | ','Chinedu| ','Liam   | ','Wale   | ',\n",
    "        'Gbenga | ','Abiola | ','Kunle  | ','George | ','Thomas | ','Wesley | ']\n",
    "age= ['17 | ','16 | ','17 | ','18 | ','16 | ','18 | ', '17 | ','20 |','19 | ','17 | ','']\n",
    "\n",
    "array = ['NAME   | ','AGE| ','HEIGHT| ','SCORE| ']\n",
    "print(f'{array}\\n')\n",
    "for i in range(20):\n",
    "    list = []\n",
    "    list.append(names[i])\n",
    "    print(list)"
   ]
  },
  {
   "cell_type": "code",
   "execution_count": null,
   "id": "bc3057b4-a32c-4e82-8c27-9b008bd34b61",
   "metadata": {},
   "outputs": [],
   "source": []
  }
 ],
 "metadata": {
  "kernelspec": {
   "display_name": "Python [conda env:base] *",
   "language": "python",
   "name": "conda-base-py"
  },
  "language_info": {
   "codemirror_mode": {
    "name": "ipython",
    "version": 3
   },
   "file_extension": ".py",
   "mimetype": "text/x-python",
   "name": "python",
   "nbconvert_exporter": "python",
   "pygments_lexer": "ipython3",
   "version": "3.12.7"
  }
 },
 "nbformat": 4,
 "nbformat_minor": 5
}
