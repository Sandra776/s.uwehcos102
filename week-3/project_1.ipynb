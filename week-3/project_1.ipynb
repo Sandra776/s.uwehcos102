{
 "cells": [
  {
   "cell_type": "code",
   "execution_count": 77,
   "id": "5274388d-2735-44e1-b9ed-3be6c5ee6ba0",
   "metadata": {},
   "outputs": [
    {
     "name": "stdout",
     "output_type": "stream",
     "text": [
      "['NAME   | ', 'AGE| ', 'HEIGHT| ', 'SCORE| ']\n",
      "['Evelyn | ', '17 | ', '5.5   | ', '80   | ']\n",
      "['Jessica| ', '16 | ', '6.0   | ', '85   | ']\n",
      "['Somto  | ', '17 | ', '5.4   | ', '70   | ']\n",
      "['Edith  | ', '18 | ', '5.9   | ', '60   | ']\n",
      "['Liza   | ', '16 | ', '5.6   | ', '76   | ']\n",
      "['Madonna| ', '18 | ', '5.5   | ', '66   | ']\n",
      "['Waje   | ', '17 | ', '6.1   | ', '87   | ']\n",
      "['Tola   | ', '20 | ', '6.0   | ', '95   | ']\n",
      "['Aisha  | ', '19 | ', '5.7   | ', '50   | ']\n",
      "['Latifa | ', '17 | ', '5.5   | ', '49   | ']\n",
      "['Chinedu| ', '19 | ', '5.7   | ', '74   | ']\n",
      "['Liam   | ', '16 | ', '5.9   | ', '87   | ']\n",
      "['Wale   | ', '18 | ', '5.8   | ', '75   | ']\n",
      "['Gbenga | ', '17 | ', '6.1   | ', '68   | ']\n",
      "['Abiola | ', '20 | ', '5.9   | ', '66   | ']\n",
      "['kola   | ', '19 | ', '5.5   | ', '78   | ']\n",
      "['Kunle  | ', '16 | ', '6.1   | ', '87   | ']\n",
      "['George | ', '18 | ', '5.4   | ', '98   | ']\n",
      "['Thomas | ', '17 | ', '5.8   | ', '54   | ']\n",
      "['Wesley | ', '19 | ', '5.7   | ', '60   | ']\n"
     ]
    }
   ],
   "source": [
    "names= ['Evelyn | ','Jessica| ','Somto  | ','Edith  | ','Liza   | ','Madonna| ', 'Waje   | ','Tola   | ', \n",
    "        'Aisha  | ','Latifa | ','Chinedu| ','Liam   | ','Wale   | ',\n",
    "        'Gbenga | ','Abiola | ','kola   | ','Kunle  | ','George | ','Thomas | ','Wesley | ']\n",
    "age= ['17 | ','16 | ','17 | ','18 | ','16 | ','18 | ', '17 | ','20 | ','19 | ','17 | ','19 | ','16 | ',\n",
    "      '18 | ','17 | ','20 | ','19 | ','16 | ','18 | ','17 | ','19 | ']\n",
    "\n",
    "height = ['5.5   | ','6.0   | ','5.4   | ','5.9   | ','5.6   | ','5.5   | ','6.1   | ','6.0   | ',\n",
    "          '5.7   | ','5.5   | ','5.7   | ','5.9   | ','5.8   | ','6.1   | ','5.9   | ','5.5   | ',\n",
    "          '6.1   | ','5.4   | ','5.8   | ','5.7   | ']\n",
    "\n",
    "score = ['80   | ','85   | ','70   | ','60   | ','76   | ','66   | ','87   | ','95   | ','50   | ','49   | ',\n",
    "         '74   | ','87   | ','75   | ','68   | ','66   | ','78   | ','87   | ','98   | ','54   | ','60   | ']\n",
    "\n",
    "array = ['NAME   | ','AGE| ','HEIGHT| ','SCORE| ']\n",
    "print(array)\n",
    "for i in range(20):\n",
    "    list = [names[i],age[i],height[i],score[i]]\n",
    "    print(list)"
   ]
  },
  {
   "cell_type": "code",
   "execution_count": null,
   "id": "bc3057b4-a32c-4e82-8c27-9b008bd34b61",
   "metadata": {},
   "outputs": [],
   "source": []
  }
 ],
 "metadata": {
  "kernelspec": {
   "display_name": "Python [conda env:base] *",
   "language": "python",
   "name": "conda-base-py"
  },
  "language_info": {
   "codemirror_mode": {
    "name": "ipython",
    "version": 3
   },
   "file_extension": ".py",
   "mimetype": "text/x-python",
   "name": "python",
   "nbconvert_exporter": "python",
   "pygments_lexer": "ipython3",
   "version": "3.12.7"
  }
 },
 "nbformat": 4,
 "nbformat_minor": 5
}
