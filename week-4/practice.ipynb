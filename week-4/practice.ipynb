{
 "cells": [
  {
   "cell_type": "code",
   "execution_count": 1,
   "id": "25254995-ff04-49fc-90ab-5875dd446b29",
   "metadata": {},
   "outputs": [
    {
     "name": "stdout",
     "output_type": "stream",
     "text": [
      "I'm first call to user defined function\n",
      "Again second call to the same function\n"
     ]
    }
   ],
   "source": [
    "def printme(str):\n",
    " print(str);\n",
    " return;\n",
    "\n",
    "printme(\"I'm first call to user defined function\")\n",
    "printme(\"Again second call to the same function\")"
   ]
  },
  {
   "cell_type": "code",
   "execution_count": 9,
   "id": "72103552-e066-4e3e-8282-15535e1fe5f9",
   "metadata": {},
   "outputs": [
    {
     "name": "stdout",
     "output_type": "stream",
     "text": [
      "Values inside the function [10, 20, 30, [1, 2, 3, 4]]\n",
      "value outside my list [10, 20, 30, [1, 2, 3, 4]]\n"
     ]
    }
   ],
   "source": [
    "def changeme(mylist):\n",
    "    mylist.append([1,2,3,4])\n",
    "    print(\"Values inside the function\", mylist)\n",
    "    return\n",
    "mylist = [10,20,30]\n",
    "changeme(mylist)\n",
    "print(\"value outside my list\",mylist)"
   ]
  },
  {
   "cell_type": "code",
   "execution_count": 11,
   "id": "2b6da698-c507-47c8-a41e-79139f0302f3",
   "metadata": {},
   "outputs": [
    {
     "name": "stdout",
     "output_type": "stream",
     "text": [
      "Values inside the function [1, 2, 3, 4]\n",
      "value outside my list [10, 20, 30]\n"
     ]
    }
   ],
   "source": [
    "def changeme(mylist):\n",
    "    mylist = [1,2,3,4]\n",
    "    print(\"Values inside the function\", mylist)\n",
    "    return\n",
    "mylist = [10,20,30]\n",
    "changeme(mylist)\n",
    "print(\"value outside my list\",mylist)"
   ]
  },
  {
   "cell_type": "code",
   "execution_count": 13,
   "id": "dae9636f-bd98-4f36-981a-75f3817ef97e",
   "metadata": {},
   "outputs": [
    {
     "ename": "TypeError",
     "evalue": "printme() missing 1 required positional argument: 'str'",
     "output_type": "error",
     "traceback": [
      "\u001b[1;31m---------------------------------------------------------------------------\u001b[0m",
      "\u001b[1;31mTypeError\u001b[0m                                 Traceback (most recent call last)",
      "Cell \u001b[1;32mIn[13], line 4\u001b[0m\n\u001b[0;32m      2\u001b[0m  \u001b[38;5;28mprint\u001b[39m(\u001b[38;5;28mstr\u001b[39m);\n\u001b[0;32m      3\u001b[0m  \u001b[38;5;28;01mreturn\u001b[39;00m;\n\u001b[1;32m----> 4\u001b[0m printme()\n",
      "\u001b[1;31mTypeError\u001b[0m: printme() missing 1 required positional argument: 'str'"
     ]
    }
   ],
   "source": [
    "def printme(str):\n",
    " print(str);\n",
    " return;\n",
    "printme()"
   ]
  },
  {
   "cell_type": "code",
   "execution_count": 15,
   "id": "278e4087-fb45-40ef-81ef-963dc2f1e853",
   "metadata": {},
   "outputs": [
    {
     "name": "stdout",
     "output_type": "stream",
     "text": [
      "My string\n"
     ]
    }
   ],
   "source": [
    "def printme(str):\n",
    " print(str);\n",
    " return;\n",
    "printme(str = \"My string\")"
   ]
  },
  {
   "cell_type": "code",
   "execution_count": 25,
   "id": "46a9198a-f508-47e6-af8c-ecbc852a6912",
   "metadata": {},
   "outputs": [
    {
     "name": "stdout",
     "output_type": "stream",
     "text": [
      "Name:  Miki\n",
      "age:  50\n"
     ]
    }
   ],
   "source": [
    "def printinfo(name, age):\n",
    "    print(\"Name: \", name);\n",
    "    print(\"age: \", age);\n",
    "    return;\n",
    "printinfo(age=50, name=\"Miki\");"
   ]
  },
  {
   "cell_type": "code",
   "execution_count": 23,
   "id": "a6f35845-26c7-461b-b3a9-e572db13d44d",
   "metadata": {},
   "outputs": [
    {
     "name": "stdout",
     "output_type": "stream",
     "text": [
      "Name:  Miki\n",
      "age:  50\n",
      "Name:  Miki\n",
      "age:  35\n"
     ]
    }
   ],
   "source": [
    "def printinfo(name, age=35):\n",
    "    print(\"Name: \", name);\n",
    "    print(\"age: \", age);\n",
    "    return;\n",
    "printinfo(age=50, name=\"Miki\");\n",
    "printinfo(name=\"Miki\");"
   ]
  },
  {
   "cell_type": "code",
   "execution_count": 45,
   "id": "806a7374-91fd-4390-914f-c392f3dd7be1",
   "metadata": {},
   "outputs": [
    {
     "name": "stdout",
     "output_type": "stream",
     "text": [
      "Output is: \n",
      "10\n",
      "Output is: \n",
      "70\n",
      "60\n",
      "50\n"
     ]
    }
   ],
   "source": [
    "def printinfo(arg1, *vartuple):\n",
    "    print(\"Output is: \")\n",
    "    print(arg1)\n",
    "    for var in vartuple:\n",
    "        print(var)\n",
    "        return;\n",
    "printinfo(10);\n",
    "printinfo(70,60,50)"
   ]
  },
  {
   "cell_type": "code",
   "execution_count": 61,
   "id": "e1b8382b-0a44-4ca4-a25b-088321b25659",
   "metadata": {},
   "outputs": [
    {
     "name": "stdout",
     "output_type": "stream",
     "text": [
      "Inside the function local total :  30\n",
      "Outside the function global :  50\n"
     ]
    }
   ],
   "source": [
    "total = 50\n",
    "def sum( arg1, arg2 ):\n",
    "    total = arg1 + arg2\n",
    "    print(\"Inside the function local total : \", total)\n",
    "    return total;\n",
    "sum(10,20);\n",
    "print(\"Outside the function global : \", total)"
   ]
  },
  {
   "cell_type": "code",
   "execution_count": 63,
   "id": "fb1ed566-7ba2-4ab2-9d2a-316682a3aae8",
   "metadata": {},
   "outputs": [
    {
     "name": "stdout",
     "output_type": "stream",
     "text": [
      "Lawal Edward Tola Tina\n",
      "Mary\n"
     ]
    }
   ],
   "source": [
    "def swap(x,y):\n",
    "    global a\n",
    "    a = \"Lawal\"\n",
    "    x,y = y,x\n",
    "    b = \"Chris\"\n",
    "    b = \"Edward\"\n",
    "    c = \"Lola\"\n",
    "    print(a,b,x,y)\n",
    "    a = \"Mary\"\n",
    "swap(\"Tina\",\"Tola\")\n",
    "print(a)"
   ]
  },
  {
   "cell_type": "code",
   "execution_count": null,
   "id": "8c1a513c-7d7e-4d35-af9b-c11931040695",
   "metadata": {},
   "outputs": [],
   "source": []
  }
 ],
 "metadata": {
  "kernelspec": {
   "display_name": "Python [conda env:base] *",
   "language": "python",
   "name": "conda-base-py"
  },
  "language_info": {
   "codemirror_mode": {
    "name": "ipython",
    "version": 3
   },
   "file_extension": ".py",
   "mimetype": "text/x-python",
   "name": "python",
   "nbconvert_exporter": "python",
   "pygments_lexer": "ipython3",
   "version": "3.12.7"
  }
 },
 "nbformat": 4,
 "nbformat_minor": 5
}
