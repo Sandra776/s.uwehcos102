{
 "cells": [
  {
   "cell_type": "code",
   "execution_count": 15,
   "id": "170a88d8-08a0-45d6-962f-64fdc5c2ccf0",
   "metadata": {},
   "outputs": [
    {
     "name": "stdin",
     "output_type": "stream",
     "text": [
      "value for radius:  3\n"
     ]
    },
    {
     "name": "stdout",
     "output_type": "stream",
     "text": [
      "The area of your circle is 28.26\n"
     ]
    }
   ],
   "source": [
    "def calculate_area():\n",
    "    r=float(input(\"value for radius: \"))\n",
    "    area = 3.14*r**(2)\n",
    "    print(\"The area of your circle is \"+str(area))\n",
    "calculate_area()"
   ]
  },
  {
   "cell_type": "code",
   "execution_count": 58,
   "id": "2dfb4ea3-385f-4435-80ed-44cdd87c50b4",
   "metadata": {},
   "outputs": [
    {
     "name": "stdin",
     "output_type": "stream",
     "text": [
      "Input the word you want to check:  dad\n"
     ]
    },
    {
     "name": "stdout",
     "output_type": "stream",
     "text": [
      "dad reads the same backwards as it does forwards\n"
     ]
    }
   ],
   "source": [
    "def is_palindrome():\n",
    " m= input(\"Input the word you want to check: \")\n",
    " y = m[::-1]\n",
    " if m == y:\n",
    "     print(m+\" reads the same backwards as it does forwards\")\n",
    " else:\n",
    "     print(m+\" does not read the same backwards as it dos forwards\")\n",
    "is_palindrome()"
   ]
  },
  {
   "cell_type": "code",
   "execution_count": 70,
   "id": "a4be6d72-4235-4d99-8c1b-6180757eb571",
   "metadata": {},
   "outputs": [
    {
     "name": "stdin",
     "output_type": "stream",
     "text": [
      "input positive integer:  4\n"
     ]
    },
    {
     "name": "stdout",
     "output_type": "stream",
     "text": [
      "The factors of 4 are\n",
      "1\n",
      "2\n",
      "4\n"
     ]
    }
   ],
   "source": [
    "def find_factors():\n",
    " n = int(input(\"input positive integer: \"))\n",
    " print(\"The factors of \"+str(n)+\" are\")\n",
    " for i in range(1,n):\n",
    "   if n % i == 0:\n",
    "      print(i)\n",
    " print(n)\n",
    " return\n",
    "find_factors()"
   ]
  },
  {
   "cell_type": "markdown",
   "id": "864d42c8-a330-460e-898e-d9840b4187f5",
   "metadata": {},
   "source": [
    "\n",
    "it will print\n",
    "[1,2,3,4] \n",
    "[7,8,9,10]\n",
    "\n",
    "The first line of the function changes the original list from [1,2,3] to [1,2,3,4].\n",
    "The second line creates a new list called my_list which is then changed from [7,8,9] to [7,8,9,10].\n",
    "The return, returns my_list as the output.\n",
    "a new variable called modified is created, it calls the function modify_list\n",
    "the first print prints out the edited original list\n",
    "the second print prints out what the function returns (my_list)"
   ]
  },
  {
   "cell_type": "code",
   "execution_count": 111,
   "id": "b066563e-cf03-496f-9a29-b78688c6a60a",
   "metadata": {},
   "outputs": [
    {
     "name": "stdout",
     "output_type": "stream",
     "text": [
      "[1, 2, 3, 4, 5]\n",
      "swapped list is [5, 2, 3, 4, 1]\n"
     ]
    }
   ],
   "source": [
    "list = [1,2,3,4,5]\n",
    "def swap_first_last(m):\n",
    " y = m[0]\n",
    " m[0] = m[-1]\n",
    " m[-1] = y\n",
    " return\n",
    "print(list)\n",
    "swap_first_last(list)\n",
    "print(\"swapped list is \"+str(list))"
   ]
  },
  {
   "cell_type": "code",
   "execution_count": 119,
   "id": "2167d3c2-5016-4878-b6f2-9f1e7c2b7595",
   "metadata": {},
   "outputs": [
    {
     "name": "stdout",
     "output_type": "stream",
     "text": [
      "Sandra\n",
      "Hello\n"
     ]
    }
   ],
   "source": [
    "def greet(name, greeting= \"Hello\"):\n",
    "    print(name)\n",
    "    print(greeting)\n",
    "    return\n",
    "greet(\"Sandra\")"
   ]
  },
  {
   "cell_type": "markdown",
   "id": "2aea7d3c-946c-4046-a06f-2c7dce82317a",
   "metadata": {},
   "source": [
    "The outer function defines x as 20 while the inner defines x as 30 but before it does it makes x a global variable making the value of x in the inner function the same value of x in the global scope.\n",
    "\n",
    "it will print x in the outer function as 20\n",
    "and x in global as 30"
   ]
  }
 ],
 "metadata": {
  "kernelspec": {
   "display_name": "Python [conda env:base] *",
   "language": "python",
   "name": "conda-base-py"
  },
  "language_info": {
   "codemirror_mode": {
    "name": "ipython",
    "version": 3
   },
   "file_extension": ".py",
   "mimetype": "text/x-python",
   "name": "python",
   "nbconvert_exporter": "python",
   "pygments_lexer": "ipython3",
   "version": "3.12.7"
  }
 },
 "nbformat": 4,
 "nbformat_minor": 5
}
