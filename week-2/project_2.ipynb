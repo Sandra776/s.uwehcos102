{
 "cells": [
  {
   "cell_type": "code",
   "execution_count": 152,
   "id": "7bfc4874-35ac-422f-be2b-49b84acae10d",
   "metadata": {},
   "outputs": [
    {
     "name": "stdin",
     "output_type": "stream",
     "text": [
      "insert number beside desired equation(1-quartic,2-cubic, 3-quadratic) 3\n",
      "insert value for a 24\n",
      "insert value for b 5\n",
      "insert value for c -78\n"
     ]
    },
    {
     "name": "stdout",
     "output_type": "stream",
     "text": [
      "The roots of your quadratic equation are [-1.90994924  1.7016159 ]\n"
     ]
    }
   ],
   "source": [
    "import numpy as npi\n",
    "equation = int(input(\"insert number beside desired equation(1-quartic,2-cubic, 3-quadratic)\"))\n",
    "def read(a,b):\n",
    "    a= float(input(\"insert value for \"+b))\n",
    "    array.append(a)\n",
    "if equation == 1:\n",
    "  array=[]\n",
    "  read(a,\"a\")\n",
    "  read(b,\"b\")\n",
    "  read(c,\"c\")\n",
    "  read(d,\"d\")\n",
    "  read(e,\"e\")\n",
    "  roots = npi.roots(array)\n",
    "  print(\"The roots of your quartic equation are \"+str(roots))\n",
    "elif equation == 2:\n",
    "  array=[]\n",
    "  read(a,\"a\")\n",
    "  read(b,\"b\")\n",
    "  read(c,\"c\")\n",
    "  read(d,\"d\")\n",
    "  roots = npi.roots(array)\n",
    "  print(\"The roots of your cubic equation are \"+str(roots))\n",
    "elif equation == 3:\n",
    "  array=[]\n",
    "  read(a,\"a\")\n",
    "  read(b,\"b\")\n",
    "  read(c,\"c\")\n",
    "  roots = npi.roots(array)\n",
    "  print(\"The roots of your quadratic equation are \"+str(roots))\n",
    "else:\n",
    "    print(\"invalid equation\")"
   ]
  },
  {
   "cell_type": "code",
   "execution_count": null,
   "id": "d90dc216-d5e5-4a61-9db9-b4b5df92da1a",
   "metadata": {},
   "outputs": [],
   "source": []
  }
 ],
 "metadata": {
  "kernelspec": {
   "display_name": "Python [conda env:base] *",
   "language": "python",
   "name": "conda-base-py"
  },
  "language_info": {
   "codemirror_mode": {
    "name": "ipython",
    "version": 3
   },
   "file_extension": ".py",
   "mimetype": "text/x-python",
   "name": "python",
   "nbconvert_exporter": "python",
   "pygments_lexer": "ipython3",
   "version": "3.12.7"
  }
 },
 "nbformat": 4,
 "nbformat_minor": 5
}
