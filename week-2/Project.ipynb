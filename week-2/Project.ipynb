{
 "cells": [
  {
   "cell_type": "code",
   "execution_count": null,
   "id": "29afe90b-ea67-46a4-a0c0-25ae209ce1d3",
   "metadata": {},
   "outputs": [
    {
     "name": "stdout",
     "output_type": "stream",
     "text": [
      "Please input the number beside the formula you want(1-simple interest,2-compound interest, 3-Annuity Plan):  3\n",
      "Input value for principle:  4\n",
      "Input value for M:  5\n",
      "Input value for T:  6\n",
      "Input value for rate:  7\n",
      "Input value for n:  8\n",
      "Input value for t:  9\n"
     ]
    },
    {
     "name": "stdout",
     "output_type": "stream",
     "text": [
      "The value of your amount is 6.212476824434986e+21\n"
     ]
    }
   ],
   "source": [
    "#input formula choice\n",
    "F= int(input(\"Please input the number beside the formula you want(1-simple interest,2-compound interest, 3-Annuity Plan): \"))\n",
    "\n",
    "if F == 1 :\n",
    "#Simple interest formula P= float(input(\"Input value for principle: \")) \n",
    " R= float(input(\"Input value for rate: \"))\n",
    " T= float(input(\"Input value for time: \")) \n",
    " A1= P*(1+(R/100)*T) \n",
    " print(\"The value of your amount is \" +str(A1)) \n",
    "elif F == 2: \n",
    "#Compound Interest formula \n",
    " P= float(input(\"Input value for principle: \")) \n",
    " R= float(input(\"Input value for rate: \")) \n",
    " n= float(input(\"Input value for n: \")) \n",
    " t= float(input(\"Input value for t: \")) \n",
    " A2= P*(1+(R/n))**(n*t) \n",
    " print(\"The value of your amount is \" +str(A2)) \n",
    "elif F == 3: \n",
    "#Annuity Formula \n",
    " PMT= float(input(\"Input value for PMT: \")) \n",
    " R= float(input(\"Input value for rate: \")) \n",
    " n= float(input(\"Input value for n: \")) \n",
    " t= float(input(\"Input value for t: \")) \n",
    " A3= PMT*(((1+(R/n))**(n*t))-1)/(R/n) \n",
    " print(\"The value of your amount is \" +str(A3)) \n",
    "else: \n",
    " print(\"invalid formula\")\n",
    "\n"
   ]
  },
  {
   "cell_type": "code",
   "execution_count": null,
   "id": "fbf5e0bb-d612-4681-b92e-c2dadd195492",
   "metadata": {},
   "outputs": [],
   "source": []
  }
 ],
 "metadata": {
  "kernelspec": {
   "display_name": "Python [conda env:base] *",
   "language": "python",
   "name": "conda-base-py"
  },
  "language_info": {
   "codemirror_mode": {
    "name": "ipython",
    "version": 3
   },
   "file_extension": ".py",
   "mimetype": "text/x-python",
   "name": "python",
   "nbconvert_exporter": "python",
   "pygments_lexer": "ipython3",
   "version": "3.12.7"
  }
 },
 "nbformat": 4,
 "nbformat_minor": 5
}
