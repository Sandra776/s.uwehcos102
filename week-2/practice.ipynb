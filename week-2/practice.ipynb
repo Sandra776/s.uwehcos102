{
 "cells": [
  {
   "cell_type": "markdown",
   "id": "c98a9806-0a91-4486-bda7-3867d1e5da8f",
   "metadata": {},
   "source": [
    "# STRING DATA TYPE"
   ]
  },
  {
   "cell_type": "code",
   "execution_count": 39,
   "id": "bb31ab97-91f5-44d9-9827-95d9759e67db",
   "metadata": {},
   "outputs": [
    {
     "name": "stdin",
     "output_type": "stream",
     "text": [
      "Enter your state of origin Delta\n"
     ]
    },
    {
     "name": "stdout",
     "output_type": "stream",
     "text": [
      "Your state of origin is Delta\n",
      "The first character is D\n",
      "The characters from third to fifth are lta\n",
      "The string starting from the third character is lta\n",
      "State of origin two times DeltaDelta\n"
     ]
    }
   ],
   "source": [
    "str = input(\"Enter your state of origin\")\n",
    "\n",
    "print(\"Your state of origin is \"+str)\n",
    "print(\"The first character is \"+str[0])\n",
    "print(\"The characters from third to fifth are \"+str[2:5])\n",
    "print(\"The string starting from the third character is \"+str[2:])\n",
    "print(\"State of origin two times \"+str * 2)"
   ]
  },
  {
   "cell_type": "markdown",
   "id": "3015a7c0-fc11-4775-a946-01c2fab1ae6e",
   "metadata": {},
   "source": [
    "# NUMERIC DATA TYPE"
   ]
  },
  {
   "cell_type": "code",
   "execution_count": 31,
   "id": "42f1d39c-bb6e-4f29-afa6-77a911f9a891",
   "metadata": {},
   "outputs": [
    {
     "name": "stdin",
     "output_type": "stream",
     "text": [
      "Enter mass in kilograms 55\n"
     ]
    },
    {
     "name": "stdout",
     "output_type": "stream",
     "text": [
      "The energy equivalent to 55.0 kg of mass is 4.943153483052497e+18 joules\n"
     ]
    }
   ],
   "source": [
    "#Input from user\n",
    "m= float(input(\"Enter mass in kilograms\"))\n",
    "\n",
    "#Constant value for the speed of light\n",
    "c= 299792458\n",
    "\n",
    "#Calculating energy using Einstein's equation\n",
    "energy = m* c **2\n",
    "\n",
    "#Displaying the result\n",
    "print(f\"The energy equivalent to {m} kg of mass is {energy} joules\")"
   ]
  },
  {
   "cell_type": "markdown",
   "id": "3ceffbb8-9de1-45c2-95aa-9ee54e009487",
   "metadata": {},
   "source": [
    "# LIST DATATYPE"
   ]
  },
  {
   "cell_type": "code",
   "execution_count": 43,
   "id": "557c8062-0548-4109-bfba-fc22b5bc09bd",
   "metadata": {},
   "outputs": [
    {
     "name": "stdout",
     "output_type": "stream",
     "text": [
      "['Anaconda', 786, 2.23, 'Jupyter', 70.2]\n",
      "Anaconda\n",
      "[786, 2.23]\n",
      "[2.23, 'Jupyter', 70.2]\n",
      "[321, 'python', 321, 'python']\n",
      "['Anaconda', 786, 2.23, 'Jupyter', 70.2, 321, 'python']\n"
     ]
    }
   ],
   "source": [
    "list = ['Anaconda', 786, 2.23, 'Jupyter', 70.2]\n",
    "shortlist = [321, 'python']\n",
    "\n",
    "print(list)\n",
    "print(list[0])\n",
    "print(list[1:3])\n",
    "print(list[2:])\n",
    "print(shortlist*2)\n",
    "print(list + shortlist)"
   ]
  },
  {
   "cell_type": "markdown",
   "id": "a7b11bcb-32be-4296-a44d-d9718e5d2135",
   "metadata": {},
   "source": [
    "# TUPLE DATATYPE"
   ]
  },
  {
   "cell_type": "code",
   "execution_count": 46,
   "id": "4b9425c5-0a4a-4b67-907c-5fbad8e90aff",
   "metadata": {},
   "outputs": [
    {
     "name": "stdout",
     "output_type": "stream",
     "text": [
      "('Ekiti', 750, 'Oshogbo', 250, 'Akure', 500)\n",
      "500\n",
      "('Oshogbo', 250)\n",
      "('Oshogbo', 250, 'Akure', 500)\n",
      "('Abeokuta', 300, 'Ogbomoso', 'Abeokuta', 300, 'Ogbomoso')\n",
      "('Ekiti', 750, 'Oshogbo', 250, 'Akure', 500, 'Abeokuta', 300, 'Ogbomoso')\n"
     ]
    }
   ],
   "source": [
    "tuple = (\"Ekiti\",750, 'Oshogbo', 250, \"Akure\", 500)\n",
    "s_tuple = (\"Abeokuta\", 300, \"Ogbomoso\")\n",
    "\n",
    "#Prints the complete tuple\n",
    "print(tuple)\n",
    "\n",
    "#Prints last element of tuple\n",
    "print(tuple[-1])\n",
    "\n",
    "#Prints elements of the tuple starting from 2nd till third\n",
    "print(tuple[2:4])\n",
    "\n",
    "#Prints elements of the tuple starting from third element\n",
    "print(tuple[2:])\n",
    "\n",
    "#Prints the contents of the tuple twice \n",
    "print(s_tuple*2)\n",
    "\n",
    "#Prints concatenated tuples\n",
    "print(tuple + s_tuple)"
   ]
  },
  {
   "cell_type": "markdown",
   "id": "ec25c1df-646d-4ed3-9bfb-08ff1bf1cd47",
   "metadata": {},
   "source": [
    "# BOOLEAN DATA TYPE "
   ]
  },
  {
   "cell_type": "code",
   "execution_count": 63,
   "id": "cc7e9ced-2806-47f7-9be0-9738acd4a20f",
   "metadata": {},
   "outputs": [
    {
     "name": "stdout",
     "output_type": "stream",
     "text": [
      "False\n",
      "False\n",
      "False\n"
     ]
    }
   ],
   "source": [
    "#Returns false as ga,e_1 is not equal to game_2\n",
    "game_1 = 2\n",
    "game_2 = 4\n",
    "print(bool(game_1 == game_2))\n",
    "#or\n",
    "print(game_1 == game_2)\n",
    "\n",
    "#Returns false as vol is none\n",
    "val = None\n",
    "print(bool(val))"
   ]
  },
  {
   "cell_type": "markdown",
   "id": "cf0cdc1a-af25-4173-9277-59ee41d3b895",
   "metadata": {},
   "source": [
    "# DATA TYPE CONVERSION (INTEGER)"
   ]
  },
  {
   "cell_type": "code",
   "execution_count": 66,
   "id": "794a94e2-f78f-45a1-82ba-023693be284c",
   "metadata": {},
   "outputs": [
    {
     "name": "stdout",
     "output_type": "stream",
     "text": [
      "Grade = 70\n",
      "GPA = 4\n",
      "CGPA = 4\n"
     ]
    }
   ],
   "source": [
    "#Convert to int\n",
    "grade = int(70)\n",
    "gpa = int(4.9)\n",
    "cgpa = int(\"4\")\n",
    "\n",
    "print(f\"Grade = {grade}\")\n",
    "print(f\"GPA = {gpa}\")\n",
    "print(f\"CGPA = {cgpa}\")"
   ]
  },
  {
   "cell_type": "markdown",
   "id": "48562ad5-36ef-42d6-b698-416239963fc3",
   "metadata": {},
   "source": [
    "# DATA TYPE CONVERSION (FLOAT)"
   ]
  },
  {
   "cell_type": "code",
   "execution_count": 70,
   "id": "5fd32425-89be-4825-8d62-4365777630d0",
   "metadata": {},
   "outputs": [
    {
     "name": "stdout",
     "output_type": "stream",
     "text": [
      "Grade = 97.0\n",
      "GPA = 5.0\n",
      "CGPA = 4.7\n"
     ]
    }
   ],
   "source": [
    "# Convert to float\n",
    "grade = float(97)\n",
    "gpa = float(5)\n",
    "cgpa = float(\"4.7\")\n",
    "\n",
    "print(f\"Grade = {grade}\")\n",
    "print(f\"GPA = {gpa}\")\n",
    "print(f\"CGPA = {cgpa}\")\n"
   ]
  }
 ],
 "metadata": {
  "kernelspec": {
   "display_name": "Python [conda env:base] *",
   "language": "python",
   "name": "conda-base-py"
  },
  "language_info": {
   "codemirror_mode": {
    "name": "ipython",
    "version": 3
   },
   "file_extension": ".py",
   "mimetype": "text/x-python",
   "name": "python",
   "nbconvert_exporter": "python",
   "pygments_lexer": "ipython3",
   "version": "3.12.7"
  }
 },
 "nbformat": 4,
 "nbformat_minor": 5
}
