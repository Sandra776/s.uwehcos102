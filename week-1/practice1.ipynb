{
 "cells": [
  {
   "cell_type": "code",
   "execution_count": 30,
   "id": "a7692c45-9d67-4ddc-b37c-6ab19e7fcc77",
   "metadata": {},
   "outputs": [
    {
     "name": "stdout",
     "output_type": "stream",
     "text": [
      "100\n",
      "Datatype of variable num is <class 'int'>\n",
      "34.45\n",
      "Datatype of variable fnum is <class 'float'>\n",
      "(3+4j)\n",
      "Datatype of variable num is <class 'complex'>\n"
     ]
    }
   ],
   "source": [
    "#integer\n",
    "num = 100\n",
    "print(num)\n",
    "print(\"Datatype of variable num is\", type(num))\n",
    "\n",
    "#float\n",
    "fnum = 34.45\n",
    "print(fnum)\n",
    "print(\"Datatype of variable fnum is\", type(fnum))\n",
    "\n",
    "#complex number\n",
    "cnum = 3 + 4j\n",
    "print(cnum)\n",
    "print(\"Datatype of variable num is\", type(cnum))"
   ]
  },
  {
   "cell_type": "code",
   "execution_count": null,
   "id": "4a978ebc-fc6a-49f6-bbfb-d0f933624179",
   "metadata": {},
   "outputs": [],
   "source": []
  }
 ],
 "metadata": {
  "kernelspec": {
   "display_name": "Python [conda env:base] *",
   "language": "python",
   "name": "conda-base-py"
  },
  "language_info": {
   "codemirror_mode": {
    "name": "ipython",
    "version": 3
   },
   "file_extension": ".py",
   "mimetype": "text/x-python",
   "name": "python",
   "nbconvert_exporter": "python",
   "pygments_lexer": "ipython3",
   "version": "3.12.7"
  }
 },
 "nbformat": 4,
 "nbformat_minor": 5
}
